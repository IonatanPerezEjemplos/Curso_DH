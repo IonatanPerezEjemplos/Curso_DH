{
 "cells": [
  {
   "cell_type": "code",
   "execution_count": null,
   "metadata": {},
   "outputs": [],
   "source": [
    "try:\n",
    "    # settings colab:\n",
    "    import google.colab\n",
    "except ModuleNotFoundError:    \n",
    "    # settings local:\n",
    "    %run \"../../../common/0_notebooks_base_setup.py\""
   ]
  },
  {
   "cell_type": "markdown",
   "metadata": {},
   "source": [
    "---\n",
    "\n",
    "<img src='../../../common/logo_DH.png' align='left' width=35%/>\n"
   ]
  },
  {
   "cell_type": "markdown",
   "metadata": {},
   "source": [
    "# Pandas I"
   ]
  },
  {
   "cell_type": "markdown",
   "metadata": {},
   "source": [
    "<a id=\"section_toc\"></a> \n",
    "## Tabla de Contenidos\n",
    "\n",
    "\n",
    "[Intro](#section_intro)\n",
    "\n",
    "$\\hspace{.5cm}$[1. `Index` como una array inmutable](#section_index_array)\n",
    "\n",
    "$\\hspace{.5cm}$[2. `Index` como un set ordenado](#section_index_set)\n",
    "\n",
    "[Constructor](#section_constructor)\n",
    "\n",
    "---\n"
   ]
  },
  {
   "cell_type": "markdown",
   "metadata": {},
   "source": [
    "## Index\n",
    "\n",
    "<a id=\"section_intro\"></a> \n",
    "###  Intro\n",
    "[volver a TOC](#section_toc)\n",
    "\n",
    "#### Documentación \n",
    "https://pandas.pydata.org/pandas-docs/stable/reference/api/pandas.Index.html\n",
    "\n",
    "Una instancia de `Index` puede pensarse como un _array inmutable_  o como un conjunto (set) ordenado.\n",
    "\n",
    "Los `DataFrames` tienen asociadas dos instancias de la clase `Index`, uno describe a las filas y el otro describe a las columnas. \n",
    "\n",
    "Para acceder a la instacia de `Index` asociada a las filas de un DataFrame usamos `df.index` y para la instancia asociada a las columnas usamos `df.columns`.\n"
   ]
  },
  {
   "cell_type": "markdown",
   "metadata": {},
   "source": [
    "<a id=\"section_index_array\"></a> \n",
    "### `Index` como una array inmutable\n",
    "[volver a TOC](#section_toc)\n",
    "\n",
    "¿Qué significa que sea inmutable? \n",
    "\n",
    "Un objeto inmutable es aquel cuyo estado (valor de cada uno de sus atributos) no puede ser modificado una vez creado.\n",
    "\n",
    "¿Y qué pasa si intentamos modificarlo? Intentemoslo"
   ]
  },
  {
   "cell_type": "code",
   "execution_count": null,
   "metadata": {},
   "outputs": [],
   "source": [
    "import pandas as pd\n",
    "ind = pd.Index([2, 3, 5, 7, 11])\n",
    "ind"
   ]
  },
  {
   "cell_type": "code",
   "execution_count": null,
   "metadata": {},
   "outputs": [],
   "source": [
    "ind[1] = 0"
   ]
  },
  {
   "cell_type": "markdown",
   "metadata": {},
   "source": [
    "Podemos indexar y hacer slicing de forma similar a un array\n"
   ]
  },
  {
   "cell_type": "code",
   "execution_count": null,
   "metadata": {},
   "outputs": [],
   "source": [
    "ind[1]"
   ]
  },
  {
   "cell_type": "code",
   "execution_count": null,
   "metadata": {},
   "outputs": [],
   "source": [
    "ind[::2]"
   ]
  },
  {
   "cell_type": "markdown",
   "metadata": {},
   "source": [
    "Las instancias de Index tienen atributos similares a los arrays de Numpy:"
   ]
  },
  {
   "cell_type": "code",
   "execution_count": null,
   "metadata": {},
   "outputs": [],
   "source": [
    "print(ind.size, ind.shape, ind.ndim, ind.dtype)"
   ]
  },
  {
   "cell_type": "markdown",
   "metadata": {},
   "source": [
    "<a id=\"section_index_set\"></a> \n",
    "### `Index` como un set ordenado\n",
    "[volver a TOC](#section_toc)\n",
    "\n",
    "Podemos utilizar operaciones sobre conjuntos con las instancias de `Index` siguiendo las convenciones de Python"
   ]
  },
  {
   "cell_type": "code",
   "execution_count": null,
   "metadata": {},
   "outputs": [],
   "source": [
    "indA = pd.Index([1, 3, 5, 7, 9])\n",
    "indB = pd.Index([2, 3, 5, 7, 11])"
   ]
  },
  {
   "cell_type": "markdown",
   "metadata": {},
   "source": [
    "#### intersection\n",
    "\n",
    "dados dos conjuntos A y B, su intersección es otro conjunto que tiene aquellos elementos que pertenecen a A y que pertenecen a B\n",
    "\n",
    "https://pandas.pydata.org/pandas-docs/stable/reference/api/pandas.Index.intersection.html"
   ]
  },
  {
   "cell_type": "code",
   "execution_count": null,
   "metadata": {},
   "outputs": [],
   "source": [
    "indA & indB  "
   ]
  },
  {
   "cell_type": "markdown",
   "metadata": {},
   "source": [
    "#### union\n",
    "\n",
    "dados dos conjuntos A y B, su unión es otro conjunto que tiene todos los elementos que pertencen a A más todos los elementos que pertencen a B\n",
    "\n",
    "https://pandas.pydata.org/pandas-docs/stable/reference/api/pandas.Index.union.html"
   ]
  },
  {
   "cell_type": "code",
   "execution_count": null,
   "metadata": {},
   "outputs": [],
   "source": [
    "indA | indB  "
   ]
  },
  {
   "cell_type": "markdown",
   "metadata": {},
   "source": [
    "#### symmetric difference\n",
    "\n",
    "dados dos conjuntos A y B, la diferencia simétrica es otro conjunto cuyos elementos son aquellos que pertenecen a alguno de los conjuntos iniciales, sin pertenecer a ambos a la vez\n",
    "\n",
    "https://pandas.pydata.org/pandas-docs/stable/reference/api/pandas.Index.symmetric_difference.html"
   ]
  },
  {
   "cell_type": "code",
   "execution_count": null,
   "metadata": {},
   "outputs": [],
   "source": [
    "indA ^ indB  "
   ]
  },
  {
   "cell_type": "markdown",
   "metadata": {},
   "source": [
    "#### difference\n",
    "\n",
    "dados dos conjuntos A y B, la diferencia es otro conjunto con los elementos del primer conjunto sin los elementos del segundo conjunto.\n",
    "\n",
    "https://pandas.pydata.org/pandas-docs/stable/reference/api/pandas.Index.difference.html"
   ]
  },
  {
   "cell_type": "code",
   "execution_count": null,
   "metadata": {},
   "outputs": [],
   "source": [
    "indA.difference(indB) # indA - indB"
   ]
  },
  {
   "cell_type": "markdown",
   "metadata": {},
   "source": [
    "<a id=\"section_constructor\"></a> \n",
    "## Constructor\n",
    "[volver a TOC](#section_toc)\n"
   ]
  },
  {
   "cell_type": "code",
   "execution_count": null,
   "metadata": {},
   "outputs": [],
   "source": [
    "ind = pd.Index([2, 3, 5, 7, 11])\n",
    "ind"
   ]
  }
 ],
 "metadata": {
  "kernelspec": {
   "display_name": "Python 3",
   "language": "python",
   "name": "python3"
  },
  "language_info": {
   "codemirror_mode": {
    "name": "ipython",
    "version": 3
   },
   "file_extension": ".py",
   "mimetype": "text/x-python",
   "name": "python",
   "nbconvert_exporter": "python",
   "pygments_lexer": "ipython3",
   "version": "3.7.6"
  }
 },
 "nbformat": 4,
 "nbformat_minor": 4
}
