{
 "cells": [
  {
   "cell_type": "code",
   "execution_count": null,
   "metadata": {},
   "outputs": [],
   "source": [
    "try:\n",
    "    # settings colab:\n",
    "    import google.colab\n",
    "except ModuleNotFoundError:    \n",
    "    # settings local:\n",
    "    %run \"../../../common/0_notebooks_base_setup.py\""
   ]
  },
  {
   "cell_type": "markdown",
   "metadata": {},
   "source": [
    "---\n",
    "\n",
    "<img src='../../../common/logo_DH.png' align='left' width=35%/>\n"
   ]
  },
  {
   "cell_type": "markdown",
   "metadata": {},
   "source": [
    "# Pandas I"
   ]
  },
  {
   "cell_type": "markdown",
   "metadata": {},
   "source": [
    "<a id=\"section_toc\"></a> \n",
    "## Tabla de Contenidos\n",
    "\n",
    "[Intro](#section_intro)\n",
    "\n",
    "[Series](#section_series)\n",
    "\n",
    "$\\hspace{.5cm}$[1. `Series` como generalización de un array de NumPy](#section_series_array_numpy)\n",
    "\n",
    "$\\hspace{.5cm}$[2. `Series` como un `dict` especializado](#section_series_dict)\n",
    "\n",
    "[Constructor](#section_constructor)\n",
    "\n",
    "[Selección de datos en Series](#section_selection)\n",
    "\n",
    "[Reindexing](#section_reindexing)\n",
    "\n",
    "[Indexers: loc e iloc](#section_loc_iloc)\n",
    "\n",
    "---\n"
   ]
  },
  {
   "cell_type": "markdown",
   "metadata": {},
   "source": [
    "## Series\n",
    "\n",
    "<a id=\"section_intro\"></a> \n",
    "###  Intro\n",
    "[volver a TOC](#section_toc)\n",
    "\n",
    "\n",
    "#### Documentación \n",
    "https://pandas.pydata.org/pandas-docs/stable/reference/series.html"
   ]
  },
  {
   "cell_type": "markdown",
   "metadata": {
    "slideshow": {
     "slide_type": "slide"
    }
   },
   "source": [
    "Una Series es un objeto similar a un vector **unidimensional**. \n",
    "\n",
    "Contiene un **array de valores** (que en este caso son Perro, Oso, Jirafa, ...) y un **array de etiquetas** asociados a estos valores **denominado índice** (que en este caso son numéricos: 0, 1, 2, ...).\n",
    "\n",
    "Cuando no especificamos un índice para los datos, se asigna por default un índice formado por valores enteros de 0 a N-1, donde N es la cantidad de valores en la serie.\n",
    "\n",
    "Los valores de la serie pueden ser de cualquier tipo de datos, pero todos **los valores de una serie deben coincidir en su tipo**.\n",
    "\n",
    "Las etiquetas, además de numéricas, también pueden ser de tipo cadena de caracteres.\n",
    "\n",
    "Una Serie también puede pensarse como un **diccionario de tamaño fijo** con sus claves numéricas (Index) ordenadas.\n",
    "\n",
    "Al igual que  los arrays de NumPy, permiten pasar una **lista de elementos (índices) para seleccionar un subconjunto** de valores.\n",
    "\n",
    "![Image](img/serie.jpg)\n",
    "\n"
   ]
  },
  {
   "cell_type": "markdown",
   "metadata": {},
   "source": [
    "<div id=\"caja1\" style=\"float:left;width: 100%;\">\n",
    "  <div style=\"float:left;width: 15%;\"><img src=\"../../../common/icons/para_seguir_pensando.png\" style=\"align:left\"/> </div>\n",
    "  <div style=\"float:left;width: 85%;\"><label>Entonces ¿qué diferencia una serie de  pandas de una instancia de numpy array unidimensional?</label></div>\n",
    "</div>\n",
    "\n",
    "---"
   ]
  },
  {
   "cell_type": "code",
   "execution_count": null,
   "metadata": {
    "slideshow": {
     "slide_type": "subslide"
    }
   },
   "outputs": [],
   "source": [
    "import numpy as np\n",
    "import pandas as pd"
   ]
  },
  {
   "cell_type": "markdown",
   "metadata": {},
   "source": [
    "<a id=\"section_series\"></a> \n",
    "## Objetos `Series` en Pandas\n",
    "[volver a TOC](#section_toc)\n",
    "\n",
    "* Puede pensarse como una array de una sola dimensión indexado. \n",
    "* Puede ser creado desde una lista:"
   ]
  },
  {
   "cell_type": "code",
   "execution_count": null,
   "metadata": {},
   "outputs": [],
   "source": [
    "lista = [0.25, 0.5, 0.75, 1.0]\n",
    "data = pd.Series(lista)\n",
    "data"
   ]
  },
  {
   "cell_type": "markdown",
   "metadata": {},
   "source": [
    "Los valores de la serie se obtienen con:"
   ]
  },
  {
   "cell_type": "code",
   "execution_count": null,
   "metadata": {},
   "outputs": [],
   "source": [
    "data.values"
   ]
  },
  {
   "cell_type": "markdown",
   "metadata": {},
   "source": [
    "El índice de la serie se obtiene con:"
   ]
  },
  {
   "cell_type": "code",
   "execution_count": null,
   "metadata": {},
   "outputs": [],
   "source": [
    "data.index"
   ]
  },
  {
   "cell_type": "markdown",
   "metadata": {},
   "source": [
    "Podemos acceder a los valores de los elementos de una serie usando el índice asociado a esos elementos, de forma similar a los arrays de Numpy: con los `[]`"
   ]
  },
  {
   "cell_type": "code",
   "execution_count": null,
   "metadata": {},
   "outputs": [],
   "source": [
    "data[1]"
   ]
  },
  {
   "cell_type": "code",
   "execution_count": null,
   "metadata": {},
   "outputs": [],
   "source": [
    "data[1:3]"
   ]
  },
  {
   "cell_type": "markdown",
   "metadata": {},
   "source": [
    "---"
   ]
  },
  {
   "cell_type": "markdown",
   "metadata": {},
   "source": [
    "<a id=\"section_series_array_numpy\"></a> \n",
    "### `Series` como generalización de un array de NumPy \n",
    "[volver a TOC](#section_toc)\n",
    "\n",
    "\n",
    "* La diferencia esencial con un array de Numpy es que el array tiene un índice entero *implícitamente definido*, mientras que un objeto `Series` de Pandas tiene un índice asociado a los valores *que está definido de forma explícita*.\n",
    "\n",
    "* El índice explícito no tiene por qué ser de tipo entero y **sus valores pueden no ser únicos**, es decir tener repeticiones.\n"
   ]
  },
  {
   "cell_type": "markdown",
   "metadata": {},
   "source": [
    "Creemos una instancia de `Series`:"
   ]
  },
  {
   "cell_type": "code",
   "execution_count": null,
   "metadata": {},
   "outputs": [],
   "source": [
    "valores =   [0.25, 0.5 , 0.75, 1.0]\n",
    "etiquetas = ['a' , 'b' , 'c' , 'd']\n",
    "etiquetas_num = [2, 5, 3, 1]\n",
    "data1 = pd.Series(valores, index=etiquetas)\n",
    "data2 = pd.Series(valores, index=etiquetas_num)\n",
    "print(data1)\n",
    "print(data2)"
   ]
  },
  {
   "cell_type": "markdown",
   "metadata": {},
   "source": [
    "Miremos el valor del segundo elemento usando su etiqueta:"
   ]
  },
  {
   "cell_type": "code",
   "execution_count": null,
   "metadata": {},
   "outputs": [],
   "source": [
    "print(data1['b'])\n",
    "print(data2[5])"
   ]
  },
  {
   "cell_type": "markdown",
   "metadata": {},
   "source": [
    "Y repitamos usando su posición:"
   ]
  },
  {
   "cell_type": "code",
   "execution_count": null,
   "metadata": {},
   "outputs": [],
   "source": [
    "print(data1[1])\n",
    "print(data2[1])"
   ]
  },
  {
   "cell_type": "markdown",
   "metadata": {},
   "source": [
    "Esperábamos que `print(data2[1])`devolviera `0.50` que es el segundo elementos de data2\n",
    "\n",
    "<div id=\"caja2\" style=\"float:left;width: 100%;\">\n",
    "  <div style=\"float:left;width: 15%;\"><img src=\"../../../common/icons/para_seguir_pensando.png\" style=\"align:left\"/> </div>\n",
    "  <div style=\"float:left;width: 85%;\"><label>\n",
    "      <label>¿Qué pasó? ¿Qué hicimos mal? ¿Cómo se resuelve este problema? </label></div>\n",
    "</div>\n",
    "\n"
   ]
  },
  {
   "cell_type": "markdown",
   "metadata": {},
   "source": [
    "Vamos a ver ahora las properties `loc` e `iloc`\n",
    "\n",
    "`iloc` recibe como parámetro la posición y `loc` recibe como parámetro la etiqueta\n",
    "\n",
    "Como ayuda memoria pensemos `iloc` como integer-location: indexamos con enteros que representan la posición.\n",
    "\n",
    "Vamos a ver entonces qué obtenemos como segundo elemento con estas properties:"
   ]
  },
  {
   "cell_type": "code",
   "execution_count": null,
   "metadata": {},
   "outputs": [],
   "source": [
    "print(data1.iloc[1])\n",
    "print(data2.iloc[1])"
   ]
  },
  {
   "cell_type": "code",
   "execution_count": null,
   "metadata": {},
   "outputs": [],
   "source": [
    "print(data1.loc['b'])\n",
    "print(data2.loc[5])"
   ]
  },
  {
   "cell_type": "markdown",
   "metadata": {},
   "source": [
    "---"
   ]
  },
  {
   "cell_type": "markdown",
   "metadata": {},
   "source": [
    "<a id=\"section_series_dict\"></a> \n",
    "### `Series` como un `dict` especializado\n",
    "[volver a TOC](#section_toc)\n",
    "\n",
    "Un `dict` es una estructura de datos que mapea un conjunto de keys arbitrarias a un conjunto de valores.\n",
    "\n",
    "La analogía entre una instancia de `Series` y una de `dict` es inmediata. Puede crearse una instancia de `Series` a partir de un `dict` donde las keys del diccionario serán el índice de la instancia de Series.\n"
   ]
  },
  {
   "cell_type": "code",
   "execution_count": null,
   "metadata": {},
   "outputs": [],
   "source": [
    "population_dict = {'California': 38332521,\n",
    "                   'Texas': 26448193,\n",
    "                   'New York': 19651127,\n",
    "                   'Florida': 19552860,\n",
    "                   'Illinois': 12882135}\n",
    "\n",
    "population = pd.Series(population_dict)\n",
    "\n",
    "print('instancia de diccionario: ')\n",
    "print(population_dict)\n",
    "print('---')\n",
    "print('instancia de series: ')\n",
    "print(population)"
   ]
  },
  {
   "cell_type": "markdown",
   "metadata": {},
   "source": [
    "Miramos el valor de población en California con la misma sintaxis para `Series` y `dict`:"
   ]
  },
  {
   "cell_type": "code",
   "execution_count": null,
   "metadata": {},
   "outputs": [],
   "source": [
    "print(population['California'])\n",
    "print(population_dict['California'])"
   ]
  },
  {
   "cell_type": "markdown",
   "metadata": {},
   "source": [
    "A diferencia de un `dict` una instancia de `Series` soporta algunas operaciones del estilo de un numpy array como, por ejemplo, slicing. \n",
    "\n",
    "<div id=\"caja3\" style=\"float:left;width: 100%;\">\n",
    "  <div style=\"float:left;width: 15%;\"><img src=\"../../../common/icons/para_seguir_pensando.png\" style=\"align:left\"/> </div>\n",
    "  <div style=\"float:left;width: 85%;\"><label>\n",
    "      <label>¿Recuerdan qué pasa con los límites en slicing en arrays?</label></div>\n",
    "</div>\n",
    "\n",
    "\n",
    "Veamos un ejemplo de slicing en una instancia de Series (notar que en este caso el endpoint es inclusivo):   "
   ]
  },
  {
   "cell_type": "code",
   "execution_count": null,
   "metadata": {},
   "outputs": [],
   "source": [
    "population['California':'Florida']"
   ]
  },
  {
   "cell_type": "markdown",
   "metadata": {},
   "source": [
    "Si usamos el index implícito, el endpoint **no** se incluye en el slicing:"
   ]
  },
  {
   "cell_type": "code",
   "execution_count": null,
   "metadata": {},
   "outputs": [],
   "source": [
    "population[0:3]"
   ]
  },
  {
   "cell_type": "markdown",
   "metadata": {},
   "source": [
    "Otro ejemplo:"
   ]
  },
  {
   "cell_type": "code",
   "execution_count": null,
   "metadata": {},
   "outputs": [],
   "source": [
    "states_list = ['Illinois','Texas','New York', 'Florida', 'California']\n",
    "states_pop = [12882135, 26448193, 19651127, 19552860, 38332521]\n",
    "states = pd.Series(states_pop, index= states_list)\n",
    "states['Illinois':'New York']"
   ]
  },
  {
   "cell_type": "markdown",
   "metadata": {},
   "source": [
    "---"
   ]
  },
  {
   "cell_type": "markdown",
   "metadata": {},
   "source": [
    "<a id=\"section_constructor\"></a> \n",
    "## Constructor\n",
    "[volver a TOC](#section_toc)\n",
    "\n",
    "#### Documentación \n",
    "https://pandas.pydata.org/pandas-docs/stable/reference/api/pandas.Series.html"
   ]
  },
  {
   "cell_type": "markdown",
   "metadata": {},
   "source": [
    "Podemos construir instancias de `Series` a partir de:\n",
    "\n",
    "1) una lista o un array de `Numpy`:"
   ]
  },
  {
   "cell_type": "code",
   "execution_count": null,
   "metadata": {},
   "outputs": [],
   "source": [
    "pd.Series([2, 4, 6]) "
   ]
  },
  {
   "cell_type": "markdown",
   "metadata": {},
   "source": [
    "2) un escalar repetido a lo largo de un índice:"
   ]
  },
  {
   "cell_type": "code",
   "execution_count": null,
   "metadata": {},
   "outputs": [],
   "source": [
    "pd.Series(5, index = [100, 200, 300]) "
   ]
  },
  {
   "cell_type": "markdown",
   "metadata": {},
   "source": [
    "3) un diccionario:"
   ]
  },
  {
   "cell_type": "code",
   "execution_count": null,
   "metadata": {},
   "outputs": [],
   "source": [
    "pd.Series({2:'a', 1:'b', 3:'c'}) "
   ]
  },
  {
   "cell_type": "markdown",
   "metadata": {},
   "source": [
    "Y en todos los casos podría usarse un índice explícitamente definido:"
   ]
  },
  {
   "cell_type": "code",
   "execution_count": null,
   "metadata": {},
   "outputs": [],
   "source": [
    "pd.Series([2, 4, 6], index=[3, 2, 2])"
   ]
  },
  {
   "cell_type": "code",
   "execution_count": null,
   "metadata": {},
   "outputs": [],
   "source": [
    "tmp = pd.Series({2:'a', 1:'b', 3:'c'},  index=[3, 2, 2, 1]) "
   ]
  },
  {
   "cell_type": "markdown",
   "metadata": {},
   "source": [
    "<div id=\"caja3\" style=\"float:left;width: 100%;\">\n",
    "  <div style=\"float:left;width: 15%;\"><img src=\"../../../common/icons/para_seguir_pensando.png\" style=\"align:left\"/> </div>\n",
    "  <div style=\"float:left;width: 85%;\"><label>\n",
    "      <label>¿Cuántos elementos obtengo si indexo este objeto con el índice 2?</label></div>\n",
    "</div>\n",
    "\n"
   ]
  },
  {
   "cell_type": "code",
   "execution_count": null,
   "metadata": {},
   "outputs": [],
   "source": [
    "pd.Series({2:'a', 1:'b', 3:'c'}, index=[3, 2, 2, 2, 2, 3, 1]) "
   ]
  },
  {
   "cell_type": "markdown",
   "metadata": {},
   "source": [
    "---"
   ]
  },
  {
   "cell_type": "markdown",
   "metadata": {},
   "source": [
    "<a id=\"section_selection\"></a> \n",
    "## Selección de datos en Series\n",
    "[volver a TOC](#section_toc)\n",
    "\n",
    "Vamos a ver ahora distintas formas de seleccionar elementos en instancias de `Series`\n",
    "\n",
    "Comencemos creando el objeto `data`:"
   ]
  },
  {
   "cell_type": "code",
   "execution_count": null,
   "metadata": {},
   "outputs": [],
   "source": [
    "data = pd.Series([0.25, 0.5, 0.75, 1.0],\n",
    "                 index=['a', 'b', 'c', 'd'])\n",
    "data"
   ]
  },
  {
   "cell_type": "markdown",
   "metadata": {},
   "source": [
    "### `Series` como diccionarios\n",
    "\n",
    "Si pensamos a las instancias de `Series` como diccionarios, podemos usar expresiones similares a las usadas en dicts para examinar keys y valores:"
   ]
  },
  {
   "cell_type": "code",
   "execution_count": null,
   "metadata": {},
   "outputs": [],
   "source": [
    "'b' in data"
   ]
  },
  {
   "cell_type": "markdown",
   "metadata": {},
   "source": [
    "**'b' in data** es equivalente a **'b' in data.keys()**:"
   ]
  },
  {
   "cell_type": "code",
   "execution_count": null,
   "metadata": {},
   "outputs": [],
   "source": [
    "'b' in data.keys()"
   ]
  },
  {
   "cell_type": "code",
   "execution_count": null,
   "metadata": {},
   "outputs": [],
   "source": [
    "data.keys()"
   ]
  },
  {
   "cell_type": "markdown",
   "metadata": {},
   "source": [
    "**data.keys()** es equivalente a **data.index**:"
   ]
  },
  {
   "cell_type": "code",
   "execution_count": null,
   "metadata": {},
   "outputs": [],
   "source": [
    "data.index"
   ]
  },
  {
   "cell_type": "code",
   "execution_count": null,
   "metadata": {},
   "outputs": [],
   "source": [
    "data.keys() is data.index"
   ]
  },
  {
   "cell_type": "code",
   "execution_count": null,
   "metadata": {},
   "outputs": [],
   "source": [
    "data.keys() == data.index"
   ]
  },
  {
   "cell_type": "code",
   "execution_count": null,
   "metadata": {},
   "outputs": [],
   "source": [
    "list(data.items())"
   ]
  },
  {
   "cell_type": "markdown",
   "metadata": {},
   "source": [
    "Como en un diccionario, podemos extender una instancia de Series definiendo una nueva key y asignarle un nuevo valor:"
   ]
  },
  {
   "cell_type": "code",
   "execution_count": null,
   "metadata": {},
   "outputs": [],
   "source": [
    "data['e'] = 1.25\n",
    "data"
   ]
  },
  {
   "cell_type": "markdown",
   "metadata": {},
   "source": [
    "### `Series` como array de una dimensión\n",
    "\n",
    "Una instancia de `Series` provee una forma de seleccionar datos análoga a la de arrays. Podemos usar _slices_, _masking_ y _fancy indexing_."
   ]
  },
  {
   "cell_type": "markdown",
   "metadata": {},
   "source": [
    "#### Slicing explícito\n",
    "\n",
    "Cuando hacemos slicing explícito (`data['a':'c']`) el índice final es incluido en el slice\n"
   ]
  },
  {
   "cell_type": "code",
   "execution_count": null,
   "metadata": {},
   "outputs": [],
   "source": [
    "data['a':'c']"
   ]
  },
  {
   "cell_type": "markdown",
   "metadata": {},
   "source": [
    "#### Slicing implícito por posición (enteros)\n",
    "\n",
    "Cuando hacemos slicing implícto (`data[0:2]`) el índice final **NO** es incluido en el slice"
   ]
  },
  {
   "cell_type": "code",
   "execution_count": null,
   "metadata": {},
   "outputs": [],
   "source": [
    "data[0:2]"
   ]
  },
  {
   "cell_type": "markdown",
   "metadata": {},
   "source": [
    "#### Boolean masking:"
   ]
  },
  {
   "cell_type": "code",
   "execution_count": null,
   "metadata": {},
   "outputs": [],
   "source": [
    "data[(data > 0.3) & (data < 0.8)]"
   ]
  },
  {
   "cell_type": "markdown",
   "metadata": {},
   "source": [
    "#### Fancy indexing:"
   ]
  },
  {
   "cell_type": "code",
   "execution_count": null,
   "metadata": {},
   "outputs": [],
   "source": [
    "data[['a', 'e']]"
   ]
  },
  {
   "cell_type": "code",
   "execution_count": null,
   "metadata": {},
   "outputs": [],
   "source": [
    "data[['a', 'e', 'e', 'b']]"
   ]
  },
  {
   "cell_type": "markdown",
   "metadata": {},
   "source": [
    "\n",
    "<a id=\"section_reindexing\"></a> \n",
    "##  Reindexing\n",
    "[volver a TOC](#section_toc)\n",
    "\n",
    "Este método permite crear una nueva instancia de `Series` con el índice y el método de \"relleno\" especificados como parámetros.\n",
    "\n",
    "#### Documentación \n",
    "https://pandas.pydata.org/pandas-docs/stable/reference/api/pandas.Series.reindex.html"
   ]
  },
  {
   "cell_type": "code",
   "execution_count": null,
   "metadata": {},
   "outputs": [],
   "source": [
    "data2 = data.reindex(['d', 'b', 'a', 'c','d', 'b', 'a', 'c', 'e', 'e']) \n",
    "print(data)\n",
    "print(data2)"
   ]
  },
  {
   "cell_type": "markdown",
   "metadata": {},
   "source": [
    "`ffill` copia la última observación válida hasta que encuentra una nueva observación válida:"
   ]
  },
  {
   "cell_type": "code",
   "execution_count": null,
   "metadata": {},
   "outputs": [],
   "source": [
    "data3 = data.reindex(['a', 'b', 'c', 'd', 'e', 'f', 'g'], method='ffill') \n",
    "print(data)\n",
    "print(data3)"
   ]
  },
  {
   "cell_type": "markdown",
   "metadata": {},
   "source": [
    "\n",
    "<a id=\"section_loc_iloc\"></a> \n",
    "##  Indexers: loc e iloc\n",
    "[volver a TOC](#section_toc)\n",
    "\n",
    "`loc` e `iloc` son propeties que nos permiten acceder a los elementos de una instancia de `Series` por ubicación o valor de index:\n"
   ]
  },
  {
   "cell_type": "markdown",
   "metadata": {},
   "source": [
    "### loc\n",
    "\n",
    "#### Documentación\n",
    "https://pandas.pydata.org/pandas-docs/stable/reference/api/pandas.Series.loc.html\n",
    "\n",
    "Accedemos a un grupo de elementos por etiqueta(s) o array de booleanos"
   ]
  },
  {
   "cell_type": "code",
   "execution_count": null,
   "metadata": {},
   "outputs": [],
   "source": [
    "data.loc['a']"
   ]
  },
  {
   "cell_type": "code",
   "execution_count": null,
   "metadata": {},
   "outputs": [],
   "source": [
    "data.loc['a':'c']"
   ]
  },
  {
   "cell_type": "code",
   "execution_count": null,
   "metadata": {},
   "outputs": [],
   "source": [
    "filtro = [True, False, False, True, False]\n",
    "print(data)\n",
    "print(data.loc[filtro])"
   ]
  },
  {
   "cell_type": "markdown",
   "metadata": {},
   "source": [
    "<div id=\"caja4\" style=\"float:left;width: 100%;\">\n",
    "  <div style=\"float:left;width: 15%;\"><img src=\"../../../common/icons/para_seguir_pensando.png\" style=\"align:left\"/> </div>\n",
    "  <div style=\"float:left;width: 85%;\"><label>\n",
    "      <label>¿Qué pasa si filtro tiene más elementos que la cantidad de filas de data?<br/>¿Qué pasa si filtro tiene menos elementos que la cantidad de filas de data?</label></div>\n",
    "</div>\n"
   ]
  },
  {
   "cell_type": "markdown",
   "metadata": {},
   "source": [
    "### iloc\n",
    "\n",
    "#### Documentación\n",
    "https://pandas.pydata.org/pandas-docs/stable/reference/api/pandas.Series.iloc.html\n",
    "\n",
    "Accedemos a un grupo de elementos únicamente por posición (números enteros).\n"
   ]
  },
  {
   "cell_type": "code",
   "execution_count": null,
   "metadata": {},
   "outputs": [],
   "source": [
    "data.iloc[1]"
   ]
  },
  {
   "cell_type": "code",
   "execution_count": null,
   "metadata": {},
   "outputs": [],
   "source": [
    "data.iloc[0:3]"
   ]
  },
  {
   "cell_type": "code",
   "execution_count": null,
   "metadata": {},
   "outputs": [],
   "source": [
    "posiciones = [0, 2, 4]\n",
    "data.iloc[posiciones]"
   ]
  },
  {
   "cell_type": "markdown",
   "metadata": {},
   "source": [
    "---\n",
    "\n",
    "#### Referencias\n",
    "\n",
    "Python for Data Analysis. Wes McKinney. Cap 5\n",
    "\n",
    "https://pandas.pydata.org/docs/getting_started/10min.html\n"
   ]
  }
 ],
 "metadata": {
  "kernelspec": {
   "display_name": "Python 3",
   "language": "python",
   "name": "python3"
  },
  "language_info": {
   "codemirror_mode": {
    "name": "ipython",
    "version": 3
   },
   "file_extension": ".py",
   "mimetype": "text/x-python",
   "name": "python",
   "nbconvert_exporter": "python",
   "pygments_lexer": "ipython3",
   "version": "3.7.6"
  }
 },
 "nbformat": 4,
 "nbformat_minor": 4
}
